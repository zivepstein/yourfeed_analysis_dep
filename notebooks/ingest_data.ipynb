{
 "cells": [
  {
   "cell_type": "code",
   "execution_count": 15,
   "metadata": {},
   "outputs": [],
   "source": [
    "import pandas as pd\n",
    "import numpy as np"
   ]
  },
  {
   "cell_type": "code",
   "execution_count": 24,
   "metadata": {},
   "outputs": [
    {
     "name": "stderr",
     "output_type": "stream",
     "text": [
      "/opt/homebrew/lib/python3.9/site-packages/IPython/core/interactiveshell.py:3169: DtypeWarning: Columns (2,4,5,6,27,28,29,30,31,32,33,34,35,36,37,38,39,40,41,42,43,44,45,46,47,48,49,50,51,52,53,54,55,56,57,58,59,60,61,62,63,64,65,66,67,68,70,71,72,73,74,77,78,79,80,81,82,83,84,85,86,87,88,89,90,91,92,93,94,95,96,97,98,99,100,101,102,103,104,105,106,107,108,109,110,111,112,113,114,115,116,117,118,119,120,121,122,123,124,125,126,127,128,129,130,131,132,133,134,135,136,137,138,139,140,141,142,143,144,145,146,147,148,149,150,151,152,153,154,155,156,157,158,159,160,161,162,163,164,165,166,167,168,169,170,171,172,173,174,175,176,177,178,179,180,181,182,183,184,185,186,187,188,189,190,191,192,193,194,195,196,197,198,199,200,201,202,203,204,205,206,207,208,209,210,211,212,213,214,215,216,217,218,219,220,221,222,223,224,225,226,227,228,229,230,231,232,233,234,235,236,239,240,241,242) have mixed types.Specify dtype option on import or set low_memory=False.\n",
      "  has_raised = await self.run_ast_nodes(code_ast.body, cell_name,\n"
     ]
    }
   ],
   "source": [
    "data_path = \"../data/static/yourfeed vs qualtrics_November 2, 2021_08.52.csv\"\n",
    "exp_id = '6676'\n",
    "\n",
    "raw = pd.read_csv(data_path)\n",
    "raw = raw.iloc[2: , :]\n",
    "raw = raw[((raw['experiment_id']==exp_id) )]\n",
    "raw['finish'] = (~raw['debug_url'].isna()) |  raw['complete']==1"
   ]
  },
  {
   "cell_type": "code",
   "execution_count": 25,
   "metadata": {},
   "outputs": [
    {
     "data": {
      "text/plain": [
       "1    1009\n",
       "0     987\n",
       "Name: yourfeed, dtype: int64"
      ]
     },
     "execution_count": 25,
     "metadata": {},
     "output_type": "execute_result"
    }
   ],
   "source": [
    "raw['yourfeed'].value_counts()"
   ]
  },
  {
   "cell_type": "code",
   "execution_count": 26,
   "metadata": {},
   "outputs": [],
   "source": [
    "qualtrics = raw[(raw['yourfeed']=='0') & ((raw['experiment_id']==exp_id) )]"
   ]
  },
  {
   "cell_type": "code",
   "execution_count": 27,
   "metadata": {},
   "outputs": [],
   "source": [
    "seedling = []\n",
    "for i,r in qualtrics.iterrows():\n",
    "    los=r['loopOrder'].split(\",\")[:-1]\n",
    "    if len(los)>1:\n",
    "        for i,lo in enumerate(los):\n",
    "            col = \"{}_response\".format(int(lo.replace(\"e\",\"\"))+1)\n",
    "            dat = (r['rid'], lo.replace(\"e\",\"\"), r[col], i+1, (\"Android\" in r['Browser_Operating System']) | (\"iPhone\" in r['Browser_Operating System']), r['experiment_id'], r['complete'], 0)\n",
    "            seedling.append(dat)\n",
    "bpd = pd.DataFrame(seedling, columns =[\"rid\",\"item\",\"response\",\"order\", \"is_mobile\", \"experiment_id\", 'completed', 'duration'])"
   ]
  },
  {
   "cell_type": "code",
   "execution_count": 28,
   "metadata": {},
   "outputs": [
    {
     "data": {
      "text/plain": [
       "0    19185\n",
       "1     9896\n",
       "Name: response, dtype: int64"
      ]
     },
     "execution_count": 28,
     "metadata": {},
     "output_type": "execute_result"
    }
   ],
   "source": [
    "(bpd['response'].fillna(0)).value_counts()"
   ]
  },
  {
   "cell_type": "code",
   "execution_count": 29,
   "metadata": {},
   "outputs": [
    {
     "data": {
      "text/plain": [
       "1    28652\n",
       "0      429\n",
       "Name: completed, dtype: int64"
      ]
     },
     "execution_count": 29,
     "metadata": {},
     "output_type": "execute_result"
    }
   ],
   "source": [
    "bpd['response'] = (bpd['response'].fillna(0)).astype(int)\n",
    "bpd['dwell'] = -1 #.groupby(\"rid\").mean()\n",
    "bpd['condition'] =0\n",
    "bpd['completed']= bpd['completed'].fillna(0)\n",
    "bpd['completed'].value_counts()"
   ]
  },
  {
   "cell_type": "code",
   "execution_count": 30,
   "metadata": {},
   "outputs": [],
   "source": [
    "import sys\n",
    "sys.path.append(\"..\")\n",
    "from utils import dump_data, render_data, fx\n",
    "# from creds import qualtrics_token\n",
    "import pandas as pd\n",
    "import psycopg2\n",
    "from datetime import datetime\n",
    "# import matplotlib\n",
    "import numpy as np\n",
    "# import matplotlib.pyplot as plt\n",
    "import re\n",
    "# %matplotlib inline  \n",
    "import time\n",
    "from creds import rds_url, rds_port, rds_db, rds_username, rds_password, user, password\n",
    "import pandas as pd\n",
    "import pandas.io.sql as sqlio"
   ]
  },
  {
   "cell_type": "code",
   "execution_count": 31,
   "metadata": {},
   "outputs": [],
   "source": [
    "conn = psycopg2.connect(\n",
    "    host=rds_url,\n",
    "    port=rds_port,\n",
    "    dbname=rds_db,\n",
    "    user=rds_username,\n",
    "    password=rds_password)"
   ]
  },
  {
   "cell_type": "code",
   "execution_count": 32,
   "metadata": {},
   "outputs": [],
   "source": [
    "demo_dat = sqlio.read_sql_query(\"select * from demographics where experiment_id='6676'\", conn)"
   ]
  },
  {
   "cell_type": "code",
   "execution_count": 33,
   "metadata": {},
   "outputs": [],
   "source": [
    "user_id2rid = demo_dat[demo_dat['field']=='rid'][['value','user_id', 'user_agent', 'experiment_id', 'time_stamp']]\n",
    "#user_id2rid[user_id2rid.duplicated(keep=False)] #must check\n",
    "user_id2rid.columns = ['rid','user_id', 'user_agent', 'experiment_id', 'start_time']\n",
    "user_id2rid = user_id2rid[~user_id2rid.duplicated(['user_id'])]\n",
    "order_data = demo_dat[demo_dat['field']=='order'][['value','user_id']]\n",
    "order_data = order_data[~order_data.duplicated(['user_id'])]\n",
    "response=[]\n",
    "for i,r in order_data.iterrows():\n",
    "    for i,item in enumerate(r['value'].split(\",\")):\n",
    "        response.append((i+1, item,r['user_id']))\n",
    "response = pd.DataFrame(response, columns = ['order','item','user_id'])\n",
    "yourfeed = pd.merge(response, user_id2rid, on='user_id', how='left')\n",
    "\n",
    "s = (yourfeed.groupby('rid')['user_id'].nunique() > 1) #why??\n",
    "mrid = s[s].index.values\n",
    "yourfeed = yourfeed[~yourfeed['rid'].isin(mrid)]"
   ]
  },
  {
   "cell_type": "code",
   "execution_count": 34,
   "metadata": {},
   "outputs": [
    {
     "data": {
      "text/plain": [
       "674"
      ]
     },
     "execution_count": 34,
     "metadata": {},
     "output_type": "execute_result"
    }
   ],
   "source": [
    "len(set(yourfeed['rid']))"
   ]
  },
  {
   "cell_type": "code",
   "execution_count": 35,
   "metadata": {},
   "outputs": [
    {
     "name": "stderr",
     "output_type": "stream",
     "text": [
      "<ipython-input-35-3b84f4152eb2>:5: SettingWithCopyWarning: \n",
      "A value is trying to be set on a copy of a slice from a DataFrame.\n",
      "Try using .loc[row_indexer,col_indexer] = value instead\n",
      "\n",
      "See the caveats in the documentation: https://pandas.pydata.org/pandas-docs/stable/user_guide/indexing.html#returning-a-view-versus-a-copy\n",
      "  dwells['dwell'] = dwells['response'].astype(int)\n"
     ]
    }
   ],
   "source": [
    "stim_dat = sqlio.read_sql_query(\"select * from stimulus where (experiment_id='6676') and (stim != 'introCard[dwell]' and stim != 'timebook[introCard][dwell]')\", conn)\n",
    "stim_dat['item'] =stim_dat['stim'].apply(lambda x:x.replace(\"][dwell]\",\"\").replace(\"card\",\"\").replace(\"timebook[\",\"\"))\n",
    "stim_dat['dwell'] = stim_dat['stim'].str.contains(\"dwell\")\n",
    "dwells =  stim_dat[stim_dat['dwell']]\n",
    "dwells['dwell'] = dwells['response'].astype(int)\n",
    "dwells = dwells[~dwells.duplicated(subset=['user_id',\"item\"])]\n",
    "dwells['item'] = dwells['item'].map(lambda x:x.replace(\"timebook[\",'').replace(\"]\",\"\"))\n",
    "#dwells[dwells.duplicated(subset=['user_id',\"item\"])].groupby(['user_id',\"item\"]).agg({\"dwell\" : np.var}) #check!\n",
    "\n",
    "yourfeed= pd.merge(yourfeed,dwells[['user_id','item' ,'dwell']], on=['user_id','item'], how='left')"
   ]
  },
  {
   "cell_type": "code",
   "execution_count": 36,
   "metadata": {},
   "outputs": [],
   "source": [
    "s = stim_dat[~stim_dat['dwell']]\n",
    "s = s[~s.duplicated(subset=['user_id',\"item\"])]\n",
    "yourfeed = pd.merge(yourfeed,s[['user_id','item','response']], on =['user_id',\"item\"], how='left')\n",
    "yourfeed['response'] = yourfeed['response'].fillna(\"-1\").astype(int)+1\n",
    "yourfeed['condition']= 1\n"
   ]
  },
  {
   "cell_type": "code",
   "execution_count": 37,
   "metadata": {},
   "outputs": [],
   "source": [
    "did_dwell = demo_dat[demo_dat['field']=='did_dwell'][['user_id', 'time_stamp']]\n",
    "did_dwell.columns = ['user_id', 'end_time']\n",
    "did_dwell = did_dwell[~did_dwell.duplicated(subset=['user_id'])]\n",
    "did_dwell['completed'] = 1\n",
    "yourfeed = pd.merge(yourfeed,did_dwell, on =['user_id'], how='left')\n"
   ]
  },
  {
   "cell_type": "code",
   "execution_count": 38,
   "metadata": {},
   "outputs": [],
   "source": [
    "yourfeed['is_mobile'] = yourfeed['user_agent'].str.contains(\"Android\") | yourfeed['user_agent'].str.contains(\"iPhone\") \n",
    "yourfeed['duration'] = (yourfeed['end_time'] - yourfeed['start_time']).map(lambda x:x.total_seconds())"
   ]
  },
  {
   "cell_type": "code",
   "execution_count": 39,
   "metadata": {},
   "outputs": [],
   "source": [
    "long = pd.concat([yourfeed[['rid', 'item', 'response', 'order', 'dwell', 'condition', 'is_mobile', 'experiment_id','completed', 'duration']],bpd])\n",
    "# long = yourfeed[['rid', 'item', 'response', 'order', 'dwell', 'condition', 'is_mobile', 'experiment_id','completed', 'duration']]"
   ]
  },
  {
   "cell_type": "code",
   "execution_count": 40,
   "metadata": {},
   "outputs": [],
   "source": [
    "demos = raw[['rid', 'crt_ages', 'crt_printer', 'crt_bread', 'crt_race','crt_sheep','pk1','pk2','pk3','pk4','pk5','age','gender','education','income','ethnicity','demrep_c', 'social_media_check', 'facebook_frequency', 'media1', 'media2',       'newsfeed_knowledge', 'accuracy_imp', 'att1','att2', 'Duration (in seconds)','StartDate', 'debug_url']]\n",
    "out = pd.merge(long,demos,on='rid',how='left')\n",
    "out['completed'] = out['completed'].fillna(0)\n",
    "out['time'] = out['duration'].astype(float) + out['Duration (in seconds)'].astype(float)\n",
    "out['dwell'] = out['dwell'].fillna(-1).astype(int)"
   ]
  },
  {
   "cell_type": "code",
   "execution_count": 41,
   "metadata": {},
   "outputs": [],
   "source": [
    "out.to_csv(\"../data/generated/soft_long.csv\")"
   ]
  },
  {
   "cell_type": "markdown",
   "metadata": {},
   "source": [
    "<h1>Comparative Dropout</h1>"
   ]
  },
  {
   "cell_type": "code",
   "execution_count": 69,
   "metadata": {},
   "outputs": [
    {
     "data": {
      "text/plain": [
       "0.0    1142\n",
       "1.0    1134\n",
       "Name: yourfeed, dtype: int64"
      ]
     },
     "execution_count": 69,
     "metadata": {},
     "output_type": "execute_result"
    }
   ],
   "source": [
    "#Start Qualtrics\n",
    "raw['yourfeed'].value_counts()"
   ]
  },
  {
   "cell_type": "code",
   "execution_count": 70,
   "metadata": {},
   "outputs": [
    {
     "name": "stdout",
     "output_type": "stream",
     "text": [
      "          finish\n",
      "yourfeed        \n",
      "0.0        716.0\n",
      "1.0        745.0\n"
     ]
    }
   ],
   "source": [
    "#Finish Qualtrics\n",
    "print(raw.groupby(\"yourfeed\").agg({\"finish\":sum}))"
   ]
  },
  {
   "cell_type": "code",
   "execution_count": 74,
   "metadata": {},
   "outputs": [
    {
     "name": "stdout",
     "output_type": "stream",
     "text": [
      "land on yourfeed: 710\n"
     ]
    }
   ],
   "source": [
    "#Land on Yourfeed\n",
    "demo_dat = sqlio.read_sql_query(\"select * from demographics where experiment_id='6676'\", conn)\n",
    "print(\"land on yourfeed: {}\".format(len(set(demo_dat[demo_dat['field']=='order']['user_id']))))"
   ]
  },
  {
   "cell_type": "code",
   "execution_count": 75,
   "metadata": {},
   "outputs": [
    {
     "name": "stdout",
     "output_type": "stream",
     "text": [
      "671\n"
     ]
    },
    {
     "data": {
      "text/plain": [
       "9    494\n",
       "0     71\n",
       "8     28\n",
       "1     23\n",
       "3     12\n",
       "2     11\n",
       "4     11\n",
       "7     10\n",
       "6      6\n",
       "5      5\n",
       "Name: value, dtype: int64"
      ]
     },
     "execution_count": 75,
     "metadata": {},
     "output_type": "execute_result"
    }
   ],
   "source": [
    "#Yourfeed Checkpoint\n",
    "checkpoint = demo_dat[demo_dat['field']=='checkpoint'].groupby(\"user_id\").agg({\"value\":max})\n",
    "print(len(checkpoint))\n",
    "checkpoint['value'].value_counts()"
   ]
  },
  {
   "cell_type": "code",
   "execution_count": 76,
   "metadata": {},
   "outputs": [],
   "source": [
    "raw['nat'] = raw['att1'].isna()\n",
    "last_question = []\n",
    "for i,r in raw.iterrows():\n",
    "    if r['finish']:\n",
    "        last_question.append(\"1 finished\")\n",
    "    elif not np.isnan(r['accuracy_imp']):\n",
    "        last_question.append(\"2 acc_imp\")\n",
    "    elif not np.isnan(r['crt_ages']):\n",
    "        last_question.append(\"4 crt\")\n",
    "    elif not r['nat']:\n",
    "        last_question.append(\"5 attc1\")\n",
    "    elif not('1' in str(r['Q1573']) or '2' in str(r['Q1573']) or '4' in str(r['Q1573'])):\n",
    "        last_question.append(\"7 social media\")\n",
    "    else:\n",
    "        last_question.append(\"7 social media\")\n",
    "    \n",
    "raw['last_question'] = last_question"
   ]
  },
  {
   "cell_type": "code",
   "execution_count": 77,
   "metadata": {},
   "outputs": [
    {
     "data": {
      "text/plain": [
       "yourfeed  last_question \n",
       "0.0       1 finished        716\n",
       "          2 acc_imp          39\n",
       "          4 crt              25\n",
       "          5 attc1           156\n",
       "          7 social media    206\n",
       "1.0       1 finished        745\n",
       "          2 acc_imp           2\n",
       "          4 crt              31\n",
       "          5 attc1           145\n",
       "          7 social media    211\n",
       "dtype: int64"
      ]
     },
     "execution_count": 77,
     "metadata": {},
     "output_type": "execute_result"
    }
   ],
   "source": [
    "raw.groupby(['yourfeed','last_question']).size()"
   ]
  },
  {
   "cell_type": "code",
   "execution_count": 78,
   "metadata": {},
   "outputs": [
    {
     "name": "stdout",
     "output_type": "stream",
     "text": [
      "yourfeed : 745\n",
      "qualtrics : 716\n"
     ]
    }
   ],
   "source": [
    "print(\"yourfeed : {}\".format(1134 - 211-145 -31-2 ))\n",
    "print(\"qualtrics : {}\".format(1142-206-156-25-39))"
   ]
  },
  {
   "cell_type": "code",
   "execution_count": 80,
   "metadata": {},
   "outputs": [],
   "source": [
    "raw.to_csv(\"../data/yvq_user_level.csv\")"
   ]
  },
  {
   "cell_type": "code",
   "execution_count": 84,
   "metadata": {},
   "outputs": [
    {
     "data": {
      "text/plain": [
       "Int64Index([ 616,  229, 1159,   89,  117, 1286,  219, 1308,   66, 2270,\n",
       "            ...\n",
       "             957, 1514, 1163, 1614,  493, 1395, 2122, 1939,  819, 2003],\n",
       "           dtype='int64', length=2276)"
      ]
     },
     "execution_count": 84,
     "metadata": {},
     "output_type": "execute_result"
    }
   ],
   "source": [
    "raw.reset_index().sample(frac=1).index"
   ]
  },
  {
   "cell_type": "code",
   "execution_count": null,
   "metadata": {},
   "outputs": [],
   "source": []
  }
 ],
 "metadata": {
  "kernelspec": {
   "display_name": "Python 3",
   "language": "python",
   "name": "python3"
  },
  "language_info": {
   "codemirror_mode": {
    "name": "ipython",
    "version": 3
   },
   "file_extension": ".py",
   "mimetype": "text/x-python",
   "name": "python",
   "nbconvert_exporter": "python",
   "pygments_lexer": "ipython3",
   "version": "3.9.7"
  }
 },
 "nbformat": 4,
 "nbformat_minor": 2
}
