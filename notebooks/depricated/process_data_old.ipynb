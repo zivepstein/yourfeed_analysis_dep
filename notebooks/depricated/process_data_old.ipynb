{
 "cells": [
  {
   "cell_type": "code",
   "execution_count": 28,
   "metadata": {},
   "outputs": [],
   "source": [
    "from utils import dump_data, render_data, fx\n",
    "from creds import qualtrics_token\n",
    "import pandas as pd\n",
    "import psycopg2\n",
    "from datetime import datetime\n",
    "import matplotlib\n",
    "import numpy as np\n",
    "import matplotlib.pyplot as plt\n",
    "import re\n",
    "%matplotlib inline  \n",
    "import time\n",
    "import sys\n",
    "from creds import rds_url, rds_port, rds_db, rds_username, rds_password, user, password\n",
    "import pandas as pd\n",
    "import pandas.io.sql as sqlio"
   ]
  },
  {
   "cell_type": "code",
   "execution_count": 2,
   "metadata": {},
   "outputs": [
    {
     "name": "stdout",
     "output_type": "stream",
     "text": [
      "{\"result\":{\"progressId\":\"ES_1FgYs4ndLAt2PnE\",\"percentComplete\":0.0,\"status\":\"inProgress\"},\"meta\":{\"requestId\":\"79754636-ccef-46e5-b0a1-16bdd936ef29\",\"httpStatus\":\"200 - OK\"}}\n",
      "{\"result\":{\"fileId\":\"b68ed69f-9d78-4edf-9774-8c7452ce2362-def\",\"percentComplete\":100.0,\"status\":\"complete\"},\"meta\":{\"requestId\":\"a5d6d83e-1848-4e1b-89a6-9b4c5e3a3588\",\"httpStatus\":\"200 - OK\"}}\n",
      "True\n"
     ]
    }
   ],
   "source": [
    "dump_data(\"SV_9ucQAGOaxR6Dl7U\")"
   ]
  },
  {
   "cell_type": "code",
   "execution_count": 6,
   "metadata": {},
   "outputs": [],
   "source": [
    "d = pd.read_csv(\"/Users/zive/GDrive/research/yourfeed_analysis/data/SV_9ucQAGOaxR6Dl7U.csv/yourfeed_pilot_v2.csv\")\n",
    "d = d.iloc[2:]"
   ]
  },
  {
   "cell_type": "code",
   "execution_count": 113,
   "metadata": {},
   "outputs": [],
   "source": [
    "#d[['Duration (in seconds)','yourfeed','rid','crt_race']]"
   ]
  },
  {
   "cell_type": "code",
   "execution_count": 8,
   "metadata": {},
   "outputs": [],
   "source": [
    "conn = psycopg2.connect(\n",
    "    host=rds_url,\n",
    "    port=rds_port,\n",
    "    dbname=rds_db,\n",
    "    user=rds_username,\n",
    "    password=rds_password)"
   ]
  },
  {
   "cell_type": "code",
   "execution_count": 76,
   "metadata": {},
   "outputs": [],
   "source": [
    "stim_dat = sqlio.read_sql_query(\"select * from stimulus where experiment_id='5123' and stim != 'introCard[dwell]'\", conn)"
   ]
  },
  {
   "cell_type": "code",
   "execution_count": 13,
   "metadata": {},
   "outputs": [],
   "source": [
    "demo_dat = sqlio.read_sql_query(\"select * from demographics where experiment_id='5123'\", conn)"
   ]
  },
  {
   "cell_type": "code",
   "execution_count": 77,
   "metadata": {},
   "outputs": [],
   "source": [
    "stim_dat['dwell'] = stim_dat['stim'].str.contains(\"dwell\")\n",
    "stim_dat['stim'] = stim_dat['stim'].apply(lambda x:re.findall(r'\\d+', x)[0])\n",
    "#stim['response_y'] = stim['response_y'].fillna(-1).astype(int)+1"
   ]
  },
  {
   "cell_type": "code",
   "execution_count": 109,
   "metadata": {},
   "outputs": [],
   "source": [
    "stim=pd.merge(stim_dat[stim_dat['dwell']],stim_dat[['user_id','stim','response']][~stim_dat['dwell']], on=['user_id','stim'], how='left')\n",
    "stim['response_y'] = stim['response_y'].fillna(-1).astype(int)+1\n",
    "stim['response_x'] = stim['response_x'].astype(int)"
   ]
  },
  {
   "cell_type": "code",
   "execution_count": 112,
   "metadata": {},
   "outputs": [
    {
     "name": "stdout",
     "output_type": "stream",
     "text": [
      "1407.4666666666667\n",
      "2457.6923076923076\n"
     ]
    }
   ],
   "source": [
    "print(np.mean(stim[stim['response_y']==0]['response_x']))\n",
    "print(np.mean(stim[stim['response_y']==1]['response_x']))"
   ]
  }
 ],
 "metadata": {
  "kernelspec": {
   "display_name": "Python 3",
   "language": "python",
   "name": "python3"
  },
  "language_info": {
   "codemirror_mode": {
    "name": "ipython",
    "version": 3
   },
   "file_extension": ".py",
   "mimetype": "text/x-python",
   "name": "python",
   "nbconvert_exporter": "python",
   "pygments_lexer": "ipython3",
   "version": "3.6.4"
  }
 },
 "nbformat": 4,
 "nbformat_minor": 2
}
